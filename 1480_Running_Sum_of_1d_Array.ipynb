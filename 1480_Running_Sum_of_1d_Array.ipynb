{
  "nbformat": 4,
  "nbformat_minor": 0,
  "metadata": {
    "colab": {
      "name": "1480. Running Sum of 1d Array",
      "provenance": [],
      "authorship_tag": "ABX9TyOHSHtevGTx4gZUATPG3Pod",
      "include_colab_link": true
    },
    "kernelspec": {
      "name": "python3",
      "display_name": "Python 3"
    }
  },
  "cells": [
    {
      "cell_type": "markdown",
      "metadata": {
        "id": "view-in-github",
        "colab_type": "text"
      },
      "source": [
        "<a href=\"https://colab.research.google.com/github/Vamsi-Akhumukhi/LeetCode/blob/master/1480_Running_Sum_of_1d_Array.ipynb\" target=\"_parent\"><img src=\"https://colab.research.google.com/assets/colab-badge.svg\" alt=\"Open In Colab\"/></a>"
      ]
    },
    {
      "cell_type": "markdown",
      "metadata": {
        "id": "dpswYFgqqzb0",
        "colab_type": "text"
      },
      "source": [
        "Given an array nums. We define a running sum of an array as runningSum[i] = sum(nums[0]…nums[i]).\n",
        "\n",
        "Return the running sum of nums."
      ]
    },
    {
      "cell_type": "markdown",
      "metadata": {
        "id": "QvbrzvrUq_UJ",
        "colab_type": "text"
      },
      "source": [
        "Example 1:\n",
        "\n",
        "Input: nums = [1,2,3,4]\n",
        "\n",
        "Output: [1,3,6,10]\n",
        "\n",
        "Explanation: Running sum is obtained as follows: [1, 1+2, 1+2+3, 1+2+3+4].\n",
        "\n",
        "Example 2:\n",
        "\n",
        "Input: nums = [1,1,1,1,1]\n",
        "\n",
        "Output: [1,2,3,4,5]\n",
        "\n",
        "Explanation: Running sum is obtained as follows: [1, 1+1, 1+1+1, 1+1+1+1, 1+1+1+1+1]."
      ]
    },
    {
      "cell_type": "code",
      "metadata": {
        "id": "OM3QXu4GqlGo",
        "colab_type": "code",
        "colab": {}
      },
      "source": [
        "class Solution:\n",
        "    def runningSum(self, nums: List[int]) -> List[int]:\n",
        "        temp = 0\n",
        "        abc = []\n",
        "        \n",
        "        for i in nums:\n",
        "            temp = temp + i\n",
        "            abc.append(temp)\n",
        "        return abc"
      ],
      "execution_count": null,
      "outputs": []
    }
  ]
}